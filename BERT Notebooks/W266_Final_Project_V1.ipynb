{
 "cells": [
  {
   "cell_type": "code",
   "execution_count": 26,
   "metadata": {},
   "outputs": [
    {
     "name": "stdout",
     "output_type": "stream",
     "text": [
      "Requirement already satisfied: tensorflow in /Users/PJHome/opt/anaconda3/lib/python3.7/site-packages (2.0.0a0)\n",
      "Requirement already satisfied: transformers in /Users/PJHome/opt/anaconda3/lib/python3.7/site-packages (4.4.2)\n",
      "Requirement already satisfied: absl-py>=0.7.0 in /Users/PJHome/opt/anaconda3/lib/python3.7/site-packages (from tensorflow) (0.10.0)\n",
      "Requirement already satisfied: six>=1.10.0 in /Users/PJHome/opt/anaconda3/lib/python3.7/site-packages (from tensorflow) (1.14.0)\n",
      "Requirement already satisfied: tf-estimator-nightly<1.14.0.dev2019030116,>=1.14.0.dev2019030115 in /Users/PJHome/opt/anaconda3/lib/python3.7/site-packages (from tensorflow) (1.14.0.dev2019030115)\n",
      "Requirement already satisfied: grpcio>=1.8.6 in /Users/PJHome/opt/anaconda3/lib/python3.7/site-packages (from tensorflow) (1.16.1)\n",
      "Requirement already satisfied: gast>=0.2.0 in /Users/PJHome/opt/anaconda3/lib/python3.7/site-packages (from tensorflow) (0.2.2)\n",
      "Requirement already satisfied: keras-preprocessing>=1.0.5 in /Users/PJHome/opt/anaconda3/lib/python3.7/site-packages (from tensorflow) (1.1.0)\n",
      "Requirement already satisfied: astor>=0.6.0 in /Users/PJHome/opt/anaconda3/lib/python3.7/site-packages (from tensorflow) (0.8.1)\n",
      "Requirement already satisfied: wheel>=0.26 in /Users/PJHome/opt/anaconda3/lib/python3.7/site-packages (from tensorflow) (0.34.2)\n",
      "Requirement already satisfied: keras-applications>=1.0.6 in /Users/PJHome/opt/anaconda3/lib/python3.7/site-packages (from tensorflow) (1.0.8)\n",
      "Requirement already satisfied: protobuf>=3.6.1 in /Users/PJHome/opt/anaconda3/lib/python3.7/site-packages (from tensorflow) (3.11.4)\n",
      "Requirement already satisfied: termcolor>=1.1.0 in /Users/PJHome/opt/anaconda3/lib/python3.7/site-packages (from tensorflow) (1.1.0)\n",
      "Requirement already satisfied: google-pasta>=0.1.2 in /Users/PJHome/opt/anaconda3/lib/python3.7/site-packages (from tensorflow) (0.2.0)\n",
      "Requirement already satisfied: tb-nightly<1.14.0a20190302,>=1.14.0a20190301 in /Users/PJHome/opt/anaconda3/lib/python3.7/site-packages (from tensorflow) (1.14.0a20190301)\n",
      "Requirement already satisfied: numpy<2.0,>=1.14.5 in /Users/PJHome/opt/anaconda3/lib/python3.7/site-packages (from tensorflow) (1.18.1)\n",
      "Requirement already satisfied: tokenizers<0.11,>=0.10.1 in /Users/PJHome/opt/anaconda3/lib/python3.7/site-packages (from transformers) (0.10.1)\n",
      "Requirement already satisfied: tqdm>=4.27 in /Users/PJHome/opt/anaconda3/lib/python3.7/site-packages (from transformers) (4.42.1)\n",
      "Requirement already satisfied: filelock in /Users/PJHome/opt/anaconda3/lib/python3.7/site-packages (from transformers) (3.0.12)\n",
      "Requirement already satisfied: sacremoses in /Users/PJHome/opt/anaconda3/lib/python3.7/site-packages (from transformers) (0.0.43)\n",
      "Requirement already satisfied: regex!=2019.12.17 in /Users/PJHome/opt/anaconda3/lib/python3.7/site-packages (from transformers) (2021.3.17)\n",
      "Requirement already satisfied: importlib-metadata; python_version < \"3.8\" in /Users/PJHome/opt/anaconda3/lib/python3.7/site-packages (from transformers) (1.7.0)\n",
      "Requirement already satisfied: requests in /Users/PJHome/opt/anaconda3/lib/python3.7/site-packages (from transformers) (2.22.0)\n",
      "Requirement already satisfied: packaging in /Users/PJHome/opt/anaconda3/lib/python3.7/site-packages (from transformers) (20.1)\n",
      "Requirement already satisfied: h5py in /Users/PJHome/opt/anaconda3/lib/python3.7/site-packages (from keras-applications>=1.0.6->tensorflow) (2.10.0)\n",
      "Requirement already satisfied: setuptools in /Users/PJHome/opt/anaconda3/lib/python3.7/site-packages (from protobuf>=3.6.1->tensorflow) (46.0.0.post20200309)\n",
      "Requirement already satisfied: markdown>=2.6.8 in /Users/PJHome/opt/anaconda3/lib/python3.7/site-packages (from tb-nightly<1.14.0a20190302,>=1.14.0a20190301->tensorflow) (3.2.2)\n",
      "Requirement already satisfied: werkzeug>=0.11.15 in /Users/PJHome/opt/anaconda3/lib/python3.7/site-packages (from tb-nightly<1.14.0a20190302,>=1.14.0a20190301->tensorflow) (1.0.0)\n",
      "Requirement already satisfied: click in /Users/PJHome/opt/anaconda3/lib/python3.7/site-packages (from sacremoses->transformers) (7.0)\n",
      "Requirement already satisfied: joblib in /Users/PJHome/opt/anaconda3/lib/python3.7/site-packages (from sacremoses->transformers) (0.14.1)\n",
      "Requirement already satisfied: zipp>=0.5 in /Users/PJHome/opt/anaconda3/lib/python3.7/site-packages (from importlib-metadata; python_version < \"3.8\"->transformers) (2.2.0)\n",
      "Requirement already satisfied: chardet<3.1.0,>=3.0.2 in /Users/PJHome/opt/anaconda3/lib/python3.7/site-packages (from requests->transformers) (3.0.4)\n",
      "Requirement already satisfied: urllib3!=1.25.0,!=1.25.1,<1.26,>=1.21.1 in /Users/PJHome/opt/anaconda3/lib/python3.7/site-packages (from requests->transformers) (1.25.8)\n",
      "Requirement already satisfied: certifi>=2017.4.17 in /Users/PJHome/opt/anaconda3/lib/python3.7/site-packages (from requests->transformers) (2019.11.28)\n",
      "Requirement already satisfied: idna<2.9,>=2.5 in /Users/PJHome/opt/anaconda3/lib/python3.7/site-packages (from requests->transformers) (2.8)\n",
      "Requirement already satisfied: pyparsing>=2.0.2 in /Users/PJHome/opt/anaconda3/lib/python3.7/site-packages (from packaging->transformers) (2.4.6)\n",
      "Requirement already satisfied: keras in /Users/PJHome/opt/anaconda3/lib/python3.7/site-packages (2.3.1)\n",
      "Requirement already satisfied: six>=1.9.0 in /Users/PJHome/opt/anaconda3/lib/python3.7/site-packages (from keras) (1.14.0)\n",
      "Requirement already satisfied: pyyaml in /Users/PJHome/opt/anaconda3/lib/python3.7/site-packages (from keras) (5.3)\n",
      "Requirement already satisfied: scipy>=0.14 in /Users/PJHome/opt/anaconda3/lib/python3.7/site-packages (from keras) (1.4.1)\n",
      "Requirement already satisfied: keras-applications>=1.0.6 in /Users/PJHome/opt/anaconda3/lib/python3.7/site-packages (from keras) (1.0.8)\n",
      "Requirement already satisfied: numpy>=1.9.1 in /Users/PJHome/opt/anaconda3/lib/python3.7/site-packages (from keras) (1.18.1)\n",
      "Requirement already satisfied: h5py in /Users/PJHome/opt/anaconda3/lib/python3.7/site-packages (from keras) (2.10.0)\n",
      "Requirement already satisfied: keras-preprocessing>=1.0.5 in /Users/PJHome/opt/anaconda3/lib/python3.7/site-packages (from keras) (1.1.0)\n"
     ]
    }
   ],
   "source": [
    "!pip install tensorflow transformers\n",
    "!pip install keras"
   ]
  },
  {
   "cell_type": "code",
   "execution_count": 24,
   "metadata": {},
   "outputs": [],
   "source": [
    "from transformers import LongformerConfig, LongformerModel\n"
   ]
  },
  {
   "cell_type": "code",
   "execution_count": 30,
   "metadata": {},
   "outputs": [
    {
     "ename": "ModuleNotFoundError",
     "evalue": "No module named 'keras.datsets'",
     "output_type": "error",
     "traceback": [
      "\u001b[0;31m---------------------------------------------------------------------------\u001b[0m",
      "\u001b[0;31mModuleNotFoundError\u001b[0m                       Traceback (most recent call last)",
      "\u001b[0;32m<ipython-input-30-f0f9c694beb4>\u001b[0m in \u001b[0;36m<module>\u001b[0;34m\u001b[0m\n\u001b[0;32m----> 1\u001b[0;31m \u001b[0;32mfrom\u001b[0m \u001b[0mkeras\u001b[0m\u001b[0;34m.\u001b[0m\u001b[0mdatsets\u001b[0m \u001b[0;32mimport\u001b[0m \u001b[0mmnist\u001b[0m\u001b[0;34m\u001b[0m\u001b[0;34m\u001b[0m\u001b[0m\n\u001b[0m",
      "\u001b[0;31mModuleNotFoundError\u001b[0m: No module named 'keras.datsets'"
     ]
    }
   ],
   "source": [
    "from keras.datsets import mnist"
   ]
  },
  {
   "cell_type": "code",
   "execution_count": 32,
   "metadata": {},
   "outputs": [
    {
     "name": "stdout",
     "output_type": "stream",
     "text": [
      "Collecting pip\n",
      "  Downloading pip-21.0.1-py3-none-any.whl (1.5 MB)\n",
      "\u001b[K     |████████████████████████████████| 1.5 MB 5.6 MB/s eta 0:00:01\n",
      "\u001b[?25hInstalling collected packages: pip\n",
      "  Attempting uninstall: pip\n",
      "    Found existing installation: pip 20.0.2\n",
      "    Uninstalling pip-20.0.2:\n",
      "      Successfully uninstalled pip-20.0.2\n",
      "Successfully installed pip-21.0.1\n"
     ]
    }
   ],
   "source": [
    "!pip install --upgrade pip"
   ]
  },
  {
   "cell_type": "code",
   "execution_count": 33,
   "metadata": {},
   "outputs": [
    {
     "name": "stdout",
     "output_type": "stream",
     "text": [
      "Requirement already satisfied: setuptools in /Users/PJHome/opt/anaconda3/lib/python3.7/site-packages (46.0.0.post20200309)\n",
      "Collecting setuptools\n",
      "  Downloading setuptools-54.2.0-py3-none-any.whl (785 kB)\n",
      "\u001b[K     |████████████████████████████████| 785 kB 5.1 MB/s eta 0:00:01\n",
      "\u001b[?25hInstalling collected packages: setuptools\n",
      "  Attempting uninstall: setuptools\n",
      "    Found existing installation: setuptools 46.0.0.post20200309\n",
      "    Uninstalling setuptools-46.0.0.post20200309:\n",
      "      Successfully uninstalled setuptools-46.0.0.post20200309\n",
      "Successfully installed setuptools-54.2.0\n"
     ]
    }
   ],
   "source": [
    "!pip install --upgrade setuptools"
   ]
  },
  {
   "cell_type": "code",
   "execution_count": 34,
   "metadata": {},
   "outputs": [
    {
     "name": "stdout",
     "output_type": "stream",
     "text": [
      "Requirement already satisfied: tensorflow in /Users/PJHome/opt/anaconda3/lib/python3.7/site-packages (2.0.0a0)\n",
      "Requirement already satisfied: gast>=0.2.0 in /Users/PJHome/opt/anaconda3/lib/python3.7/site-packages (from tensorflow) (0.2.2)\n",
      "Requirement already satisfied: keras-applications>=1.0.6 in /Users/PJHome/opt/anaconda3/lib/python3.7/site-packages (from tensorflow) (1.0.8)\n",
      "Requirement already satisfied: six>=1.10.0 in /Users/PJHome/opt/anaconda3/lib/python3.7/site-packages (from tensorflow) (1.14.0)\n",
      "Requirement already satisfied: termcolor>=1.1.0 in /Users/PJHome/opt/anaconda3/lib/python3.7/site-packages (from tensorflow) (1.1.0)\n",
      "Requirement already satisfied: protobuf>=3.6.1 in /Users/PJHome/opt/anaconda3/lib/python3.7/site-packages (from tensorflow) (3.11.4)\n",
      "Requirement already satisfied: absl-py>=0.7.0 in /Users/PJHome/opt/anaconda3/lib/python3.7/site-packages (from tensorflow) (0.10.0)\n",
      "Requirement already satisfied: tb-nightly<1.14.0a20190302,>=1.14.0a20190301 in /Users/PJHome/opt/anaconda3/lib/python3.7/site-packages (from tensorflow) (1.14.0a20190301)\n",
      "Requirement already satisfied: tf-estimator-nightly<1.14.0.dev2019030116,>=1.14.0.dev2019030115 in /Users/PJHome/opt/anaconda3/lib/python3.7/site-packages (from tensorflow) (1.14.0.dev2019030115)\n",
      "Requirement already satisfied: keras-preprocessing>=1.0.5 in /Users/PJHome/opt/anaconda3/lib/python3.7/site-packages (from tensorflow) (1.1.0)\n",
      "Requirement already satisfied: numpy<2.0,>=1.14.5 in /Users/PJHome/opt/anaconda3/lib/python3.7/site-packages (from tensorflow) (1.18.1)\n",
      "Requirement already satisfied: grpcio>=1.8.6 in /Users/PJHome/opt/anaconda3/lib/python3.7/site-packages (from tensorflow) (1.16.1)\n",
      "Requirement already satisfied: wheel>=0.26 in /Users/PJHome/opt/anaconda3/lib/python3.7/site-packages (from tensorflow) (0.34.2)\n",
      "Requirement already satisfied: google-pasta>=0.1.2 in /Users/PJHome/opt/anaconda3/lib/python3.7/site-packages (from tensorflow) (0.2.0)\n",
      "Requirement already satisfied: astor>=0.6.0 in /Users/PJHome/opt/anaconda3/lib/python3.7/site-packages (from tensorflow) (0.8.1)\n",
      "Requirement already satisfied: h5py in /Users/PJHome/opt/anaconda3/lib/python3.7/site-packages (from keras-applications>=1.0.6->tensorflow) (2.10.0)\n",
      "Requirement already satisfied: setuptools in /Users/PJHome/opt/anaconda3/lib/python3.7/site-packages (from protobuf>=3.6.1->tensorflow) (54.2.0)\n",
      "Requirement already satisfied: markdown>=2.6.8 in /Users/PJHome/opt/anaconda3/lib/python3.7/site-packages (from tb-nightly<1.14.0a20190302,>=1.14.0a20190301->tensorflow) (3.2.2)\n",
      "Requirement already satisfied: werkzeug>=0.11.15 in /Users/PJHome/opt/anaconda3/lib/python3.7/site-packages (from tb-nightly<1.14.0a20190302,>=1.14.0a20190301->tensorflow) (1.0.0)\n",
      "Requirement already satisfied: importlib-metadata in /Users/PJHome/opt/anaconda3/lib/python3.7/site-packages (from markdown>=2.6.8->tb-nightly<1.14.0a20190302,>=1.14.0a20190301->tensorflow) (1.7.0)\n",
      "Requirement already satisfied: zipp>=0.5 in /Users/PJHome/opt/anaconda3/lib/python3.7/site-packages (from importlib-metadata->markdown>=2.6.8->tb-nightly<1.14.0a20190302,>=1.14.0a20190301->tensorflow) (2.2.0)\n"
     ]
    }
   ],
   "source": [
    "!pip install tensorflow"
   ]
  },
  {
   "cell_type": "code",
   "execution_count": 35,
   "metadata": {},
   "outputs": [
    {
     "name": "stdout",
     "output_type": "stream",
     "text": [
      "Name: tensorflow\r\n",
      "Version: 2.0.0a0\r\n",
      "Summary: TensorFlow is an open source machine learning framework for everyone.\r\n",
      "Home-page: https://www.tensorflow.org/\r\n",
      "Author: Google Inc.\r\n",
      "Author-email: packages@tensorflow.org\r\n",
      "License: Apache 2.0\r\n",
      "Location: /Users/PJHome/opt/anaconda3/lib/python3.7/site-packages\r\n",
      "Requires: grpcio, six, numpy, keras-preprocessing, protobuf, tb-nightly, wheel, tf-estimator-nightly, termcolor, gast, keras-applications, absl-py, astor, google-pasta\r\n",
      "Required-by: \r\n"
     ]
    }
   ],
   "source": [
    "!pip show tensorflow"
   ]
  },
  {
   "cell_type": "code",
   "execution_count": 36,
   "metadata": {},
   "outputs": [
    {
     "name": "stdout",
     "output_type": "stream",
     "text": [
      "tensorflow                         2.0.0a0\r\n",
      "tensorflow-estimator               2.0.0\r\n"
     ]
    }
   ],
   "source": [
    "!pip list | grep tensorflow"
   ]
  },
  {
   "cell_type": "code",
   "execution_count": 37,
   "metadata": {},
   "outputs": [
    {
     "name": "stdout",
     "output_type": "stream",
     "text": [
      "Requirement already satisfied: keras in /Users/PJHome/opt/anaconda3/lib/python3.7/site-packages (2.3.1)\n",
      "Requirement already satisfied: numpy>=1.9.1 in /Users/PJHome/opt/anaconda3/lib/python3.7/site-packages (from keras) (1.18.1)\n",
      "Requirement already satisfied: scipy>=0.14 in /Users/PJHome/opt/anaconda3/lib/python3.7/site-packages (from keras) (1.4.1)\n",
      "Requirement already satisfied: pyyaml in /Users/PJHome/opt/anaconda3/lib/python3.7/site-packages (from keras) (5.3)\n",
      "Requirement already satisfied: keras-applications>=1.0.6 in /Users/PJHome/opt/anaconda3/lib/python3.7/site-packages (from keras) (1.0.8)\n",
      "Requirement already satisfied: six>=1.9.0 in /Users/PJHome/opt/anaconda3/lib/python3.7/site-packages (from keras) (1.14.0)\n",
      "Requirement already satisfied: h5py in /Users/PJHome/opt/anaconda3/lib/python3.7/site-packages (from keras) (2.10.0)\n",
      "Requirement already satisfied: keras-preprocessing>=1.0.5 in /Users/PJHome/opt/anaconda3/lib/python3.7/site-packages (from keras) (1.1.0)\n"
     ]
    }
   ],
   "source": [
    "!pip install keras"
   ]
  },
  {
   "cell_type": "code",
   "execution_count": 40,
   "metadata": {},
   "outputs": [],
   "source": [
    "from keras.datasets import mnist\n",
    "from keras import models\n",
    "from keras import layers\n"
   ]
  },
  {
   "cell_type": "code",
   "execution_count": 22,
   "metadata": {},
   "outputs": [
    {
     "name": "stderr",
     "output_type": "stream",
     "text": [
      "b'Skipping line 3: expected 16 fields, saw 44\\nSkipping line 4: expected 16 fields, saw 67\\nSkipping line 58: expected 16 fields, saw 19\\nSkipping line 67: expected 16 fields, saw 30\\nSkipping line 116: expected 16 fields, saw 21\\nSkipping line 117: expected 16 fields, saw 68\\nSkipping line 118: expected 16 fields, saw 87\\nSkipping line 124: expected 16 fields, saw 18\\nSkipping line 135: expected 16 fields, saw 20\\nSkipping line 144: expected 16 fields, saw 18\\nSkipping line 147: expected 16 fields, saw 21\\nSkipping line 166: expected 16 fields, saw 34\\nSkipping line 176: expected 16 fields, saw 19\\nSkipping line 179: expected 16 fields, saw 17\\nSkipping line 193: expected 16 fields, saw 18\\nSkipping line 223: expected 16 fields, saw 31\\nSkipping line 230: expected 16 fields, saw 52\\nSkipping line 231: expected 16 fields, saw 83\\nSkipping line 258: expected 16 fields, saw 17\\nSkipping line 290: expected 16 fields, saw 24\\nSkipping line 314: expected 16 fields, saw 20\\nSkipping line 317: expected 16 fields, saw 21\\n'\n"
     ]
    },
    {
     "data": {
      "text/html": [
       "<div>\n",
       "<style scoped>\n",
       "    .dataframe tbody tr th:only-of-type {\n",
       "        vertical-align: middle;\n",
       "    }\n",
       "\n",
       "    .dataframe tbody tr th {\n",
       "        vertical-align: top;\n",
       "    }\n",
       "\n",
       "    .dataframe thead th {\n",
       "        text-align: right;\n",
       "    }\n",
       "</style>\n",
       "<table border=\"1\" class=\"dataframe\">\n",
       "  <thead>\n",
       "    <tr style=\"text-align: right;\">\n",
       "      <th></th>\n",
       "      <th></th>\n",
       "      <th></th>\n",
       "      <th></th>\n",
       "      <th></th>\n",
       "      <th></th>\n",
       "      <th></th>\n",
       "      <th></th>\n",
       "      <th></th>\n",
       "      <th></th>\n",
       "      <th>A_182167 2021-02-17 Good afternoon</th>\n",
       "      <th>and welcome to the Agilent Technologies First Quarter Earnings Conference Call. All lines have been placed on mute to prevent any background noise. After the speakers' remarks</th>\n",
       "      <th>there will be a question-and-answer session. [Operator Instructions]. And now I'd like to introduce you to the host for today's conference</th>\n",
       "      <th>Ankur Dhingra</th>\n",
       "      <th>Vice President of Investor Relations. Sir</th>\n",
       "      <th>please go ahead.</th>\n",
       "    </tr>\n",
       "  </thead>\n",
       "  <tbody>\n",
       "    <tr>\n",
       "      <th>A_182167 2021-02-17 Thank you</th>\n",
       "      <th>Jason</th>\n",
       "      <th>and welcome</th>\n",
       "      <th>everyone</th>\n",
       "      <th>to Agilent's first quarter conference call for fiscal year 2021. With me are Mike McMullen</th>\n",
       "      <th>Agilent's President and CEO; and Bob McMahon</th>\n",
       "      <th>Agilent's Senior Vice President and CFO. Joining in the Q&amp;A after Bob's comments will be Jacob Thaysen</th>\n",
       "      <th>President of Agilent's Life Science and Applied Markets Group; Sam Raha</th>\n",
       "      <th>President of Agilent's Diagnostics and Genomics Group; and Padraig McDonnell</th>\n",
       "      <th>President of Agilent CrossLab Group. This presentation is being webcast live. The news release</th>\n",
       "      <td>investor presentation and information to supp...</td>\n",
       "      <td>along with the recording of this webcast</td>\n",
       "      <td>are made available on our website at investor...</td>\n",
       "      <td>all references to increases or decreases in f...</td>\n",
       "      <td>and references to revenue growth are on a cor...</td>\n",
       "      <td>I would like to turn the call over to Mike. M...</td>\n",
       "    </tr>\n",
       "    <tr>\n",
       "      <th>A_182167 2021-02-17 Thanks</th>\n",
       "      <th>Bob. Jason</th>\n",
       "      <th>if you can provide the instructions for Q&amp;A</th>\n",
       "      <th>please.</th>\n",
       "      <th>NaN</th>\n",
       "      <th>NaN</th>\n",
       "      <th>NaN</th>\n",
       "      <th>NaN</th>\n",
       "      <th>NaN</th>\n",
       "      <th>NaN</th>\n",
       "      <td>NaN</td>\n",
       "      <td>NaN</td>\n",
       "      <td>NaN</td>\n",
       "      <td>NaN</td>\n",
       "      <td>NaN</td>\n",
       "      <td>NaN</td>\n",
       "    </tr>\n",
       "    <tr>\n",
       "      <th>A_182167 2021-02-17 [Operator Instructions]. Your first question comes from the line of Tycho Peterson from JPMorgan.</th>\n",
       "      <th>NaN</th>\n",
       "      <th>NaN</th>\n",
       "      <th>NaN</th>\n",
       "      <th>NaN</th>\n",
       "      <th>NaN</th>\n",
       "      <th>NaN</th>\n",
       "      <th>NaN</th>\n",
       "      <th>NaN</th>\n",
       "      <th>NaN</th>\n",
       "      <td>NaN</td>\n",
       "      <td>NaN</td>\n",
       "      <td>NaN</td>\n",
       "      <td>NaN</td>\n",
       "      <td>NaN</td>\n",
       "      <td>NaN</td>\n",
       "    </tr>\n",
       "    <tr>\n",
       "      <th>A_182167 2021-02-17 Congratulation here on the preannouncement. On that note</th>\n",
       "      <th>Mike</th>\n",
       "      <th>actually</th>\n",
       "      <th>I'm wondering if you could talk a little bit about what drove the delta to the preannouncement. And then importantly</th>\n",
       "      <th>on sustainability</th>\n",
       "      <th>it sounds like you're not really calling out any kind of pull forward here. Curious as we think about it</th>\n",
       "      <th>and particularly that biopharma strength and the mid-teens growth you’ve had in LC/MS</th>\n",
       "      <th>how are you thinking about the sustainability there?</th>\n",
       "      <th>NaN</th>\n",
       "      <th>NaN</th>\n",
       "      <td>NaN</td>\n",
       "      <td>NaN</td>\n",
       "      <td>NaN</td>\n",
       "      <td>NaN</td>\n",
       "      <td>NaN</td>\n",
       "      <td>NaN</td>\n",
       "    </tr>\n",
       "    <tr>\n",
       "      <th>A_182167 2021-02-17 Well</th>\n",
       "      <th>first of all</th>\n",
       "      <th>Tycho</th>\n",
       "      <th>thanks for the recognition. Really proud of the performance to even top our earlier revised expectations for the quarter. And I'd say that as we got into January</th>\n",
       "      <th>business in January was stronger than we had anticipated. And I think it was -- from a geographic perspective</th>\n",
       "      <th>we saw the strength in China. Obviously</th>\n",
       "      <th>that was higher than we had. We're thinking as long as very -- really good strength in the Americas</th>\n",
       "      <th>led by pharma and the food market. I'm sure we'll dial in today on the call about the food market</th>\n",
       "      <th>which is both growth in China as well as in Americas. And then no pull forwards. So it was a clean quarter with January being stronger than we had anticipated</th>\n",
       "      <th>when we already had announced an increase in our revenue outlook for the quarter. Bob</th>\n",
       "      <td>I don't know if I missed anything on the...</td>\n",
       "      <td>NaN</td>\n",
       "      <td>NaN</td>\n",
       "      <td>NaN</td>\n",
       "      <td>NaN</td>\n",
       "      <td>NaN</td>\n",
       "    </tr>\n",
       "  </tbody>\n",
       "</table>\n",
       "</div>"
      ],
      "text/plain": [
       "                                                                                                                                                                                                                                                                                                                                                                                                                                                                                                   A_182167 2021-02-17 Good afternoon  \\\n",
       "A_182167 2021-02-17 Thank you                       Jason         and welcome                                  everyone                                           to Agilent's first quarter conference call for...  Agilent's President and CEO; and Bob McMahon       Agilent's Senior Vice President and CFO. Joini...  President of Agilent's Life Science and Applie...  President of Agilent's Diagnostics and Genomic...  President of Agilent CrossLab Group. This pres...   investor presentation and information to supp...   \n",
       "A_182167 2021-02-17 Thanks                          Bob. Jason    if you can provide the instructions for Q&A  please.                                           NaN                                                NaN                                                NaN                                                NaN                                                NaN                                                NaN                                                                                               NaN   \n",
       "A_182167 2021-02-17 [Operator Instructions]. Yo... NaN           NaN                                          NaN                                                NaN                                                NaN                                                NaN                                                NaN                                                NaN                                                NaN                                                                                               NaN   \n",
       "A_182167 2021-02-17 Congratulation here on the ...  Mike          actually                                     I'm wondering if you could talk a little bit a...  on sustainability                                  it sounds like you're not really calling out a...  and particularly that biopharma strength and t...  how are you thinking about the sustainability ... NaN                                                NaN                                                                                               NaN   \n",
       "A_182167 2021-02-17 Well                            first of all  Tycho                                        thanks for the recognition. Really proud of th...  business in January was stronger than we had a...  we saw the strength in China. Obviously            that was higher than we had. We're thinking as...  led by pharma and the food market. I'm sure we...  which is both growth in China as well as in Am...  when we already had announced an increase in o...        I don't know if I missed anything on the...   \n",
       "\n",
       "                                                                                                                                                                                                                                                                                                                                                                                                                                                                                    and welcome to the Agilent Technologies First Quarter Earnings Conference Call. All lines have been placed on mute to prevent any background noise. After the speakers' remarks  \\\n",
       "A_182167 2021-02-17 Thank you                       Jason         and welcome                                  everyone                                           to Agilent's first quarter conference call for...  Agilent's President and CEO; and Bob McMahon       Agilent's Senior Vice President and CFO. Joini...  President of Agilent's Life Science and Applie...  President of Agilent's Diagnostics and Genomic...  President of Agilent CrossLab Group. This pres...           along with the recording of this webcast                                                                                                                                 \n",
       "A_182167 2021-02-17 Thanks                          Bob. Jason    if you can provide the instructions for Q&A  please.                                           NaN                                                NaN                                                NaN                                                NaN                                                NaN                                                NaN                                                                                               NaN                                                                                                                                 \n",
       "A_182167 2021-02-17 [Operator Instructions]. Yo... NaN           NaN                                          NaN                                                NaN                                                NaN                                                NaN                                                NaN                                                NaN                                                NaN                                                                                               NaN                                                                                                                                 \n",
       "A_182167 2021-02-17 Congratulation here on the ...  Mike          actually                                     I'm wondering if you could talk a little bit a...  on sustainability                                  it sounds like you're not really calling out a...  and particularly that biopharma strength and t...  how are you thinking about the sustainability ... NaN                                                NaN                                                                                               NaN                                                                                                                                 \n",
       "A_182167 2021-02-17 Well                            first of all  Tycho                                        thanks for the recognition. Really proud of th...  business in January was stronger than we had a...  we saw the strength in China. Obviously            that was higher than we had. We're thinking as...  led by pharma and the food market. I'm sure we...  which is both growth in China as well as in Am...  when we already had announced an increase in o...                                                NaN                                                                                                                                 \n",
       "\n",
       "                                                                                                                                                                                                                                                                                                                                                                                                                                                                                    there will be a question-and-answer session. [Operator Instructions]. And now I'd like to introduce you to the host for today's conference  \\\n",
       "A_182167 2021-02-17 Thank you                       Jason         and welcome                                  everyone                                           to Agilent's first quarter conference call for...  Agilent's President and CEO; and Bob McMahon       Agilent's Senior Vice President and CFO. Joini...  President of Agilent's Life Science and Applie...  President of Agilent's Diagnostics and Genomic...  President of Agilent CrossLab Group. This pres...   are made available on our website at investor...                                                                                            \n",
       "A_182167 2021-02-17 Thanks                          Bob. Jason    if you can provide the instructions for Q&A  please.                                           NaN                                                NaN                                                NaN                                                NaN                                                NaN                                                NaN                                                                                               NaN                                                                                            \n",
       "A_182167 2021-02-17 [Operator Instructions]. Yo... NaN           NaN                                          NaN                                                NaN                                                NaN                                                NaN                                                NaN                                                NaN                                                NaN                                                                                               NaN                                                                                            \n",
       "A_182167 2021-02-17 Congratulation here on the ...  Mike          actually                                     I'm wondering if you could talk a little bit a...  on sustainability                                  it sounds like you're not really calling out a...  and particularly that biopharma strength and t...  how are you thinking about the sustainability ... NaN                                                NaN                                                                                               NaN                                                                                            \n",
       "A_182167 2021-02-17 Well                            first of all  Tycho                                        thanks for the recognition. Really proud of th...  business in January was stronger than we had a...  we saw the strength in China. Obviously            that was higher than we had. We're thinking as...  led by pharma and the food market. I'm sure we...  which is both growth in China as well as in Am...  when we already had announced an increase in o...                                                NaN                                                                                            \n",
       "\n",
       "                                                                                                                                                                                                                                                                                                                                                                                                                                                                                                                        Ankur Dhingra  \\\n",
       "A_182167 2021-02-17 Thank you                       Jason         and welcome                                  everyone                                           to Agilent's first quarter conference call for...  Agilent's President and CEO; and Bob McMahon       Agilent's Senior Vice President and CFO. Joini...  President of Agilent's Life Science and Applie...  President of Agilent's Diagnostics and Genomic...  President of Agilent CrossLab Group. This pres...   all references to increases or decreases in f...   \n",
       "A_182167 2021-02-17 Thanks                          Bob. Jason    if you can provide the instructions for Q&A  please.                                           NaN                                                NaN                                                NaN                                                NaN                                                NaN                                                NaN                                                                                               NaN   \n",
       "A_182167 2021-02-17 [Operator Instructions]. Yo... NaN           NaN                                          NaN                                                NaN                                                NaN                                                NaN                                                NaN                                                NaN                                                NaN                                                                                               NaN   \n",
       "A_182167 2021-02-17 Congratulation here on the ...  Mike          actually                                     I'm wondering if you could talk a little bit a...  on sustainability                                  it sounds like you're not really calling out a...  and particularly that biopharma strength and t...  how are you thinking about the sustainability ... NaN                                                NaN                                                                                               NaN   \n",
       "A_182167 2021-02-17 Well                            first of all  Tycho                                        thanks for the recognition. Really proud of th...  business in January was stronger than we had a...  we saw the strength in China. Obviously            that was higher than we had. We're thinking as...  led by pharma and the food market. I'm sure we...  which is both growth in China as well as in Am...  when we already had announced an increase in o...                                                NaN   \n",
       "\n",
       "                                                                                                                                                                                                                                                                                                                                                                                                                                                                                            Vice President of Investor Relations. Sir  \\\n",
       "A_182167 2021-02-17 Thank you                       Jason         and welcome                                  everyone                                           to Agilent's first quarter conference call for...  Agilent's President and CEO; and Bob McMahon       Agilent's Senior Vice President and CFO. Joini...  President of Agilent's Life Science and Applie...  President of Agilent's Diagnostics and Genomic...  President of Agilent CrossLab Group. This pres...   and references to revenue growth are on a cor...   \n",
       "A_182167 2021-02-17 Thanks                          Bob. Jason    if you can provide the instructions for Q&A  please.                                           NaN                                                NaN                                                NaN                                                NaN                                                NaN                                                NaN                                                                                               NaN   \n",
       "A_182167 2021-02-17 [Operator Instructions]. Yo... NaN           NaN                                          NaN                                                NaN                                                NaN                                                NaN                                                NaN                                                NaN                                                NaN                                                                                               NaN   \n",
       "A_182167 2021-02-17 Congratulation here on the ...  Mike          actually                                     I'm wondering if you could talk a little bit a...  on sustainability                                  it sounds like you're not really calling out a...  and particularly that biopharma strength and t...  how are you thinking about the sustainability ... NaN                                                NaN                                                                                               NaN   \n",
       "A_182167 2021-02-17 Well                            first of all  Tycho                                        thanks for the recognition. Really proud of th...  business in January was stronger than we had a...  we saw the strength in China. Obviously            that was higher than we had. We're thinking as...  led by pharma and the food market. I'm sure we...  which is both growth in China as well as in Am...  when we already had announced an increase in o...                                                NaN   \n",
       "\n",
       "                                                                                                                                                                                                                                                                                                                                                                                                                                                                                                                     please go ahead.  \n",
       "A_182167 2021-02-17 Thank you                       Jason         and welcome                                  everyone                                           to Agilent's first quarter conference call for...  Agilent's President and CEO; and Bob McMahon       Agilent's Senior Vice President and CFO. Joini...  President of Agilent's Life Science and Applie...  President of Agilent's Diagnostics and Genomic...  President of Agilent CrossLab Group. This pres...   I would like to turn the call over to Mike. M...  \n",
       "A_182167 2021-02-17 Thanks                          Bob. Jason    if you can provide the instructions for Q&A  please.                                           NaN                                                NaN                                                NaN                                                NaN                                                NaN                                                NaN                                                                                               NaN  \n",
       "A_182167 2021-02-17 [Operator Instructions]. Yo... NaN           NaN                                          NaN                                                NaN                                                NaN                                                NaN                                                NaN                                                NaN                                                NaN                                                                                               NaN  \n",
       "A_182167 2021-02-17 Congratulation here on the ...  Mike          actually                                     I'm wondering if you could talk a little bit a...  on sustainability                                  it sounds like you're not really calling out a...  and particularly that biopharma strength and t...  how are you thinking about the sustainability ... NaN                                                NaN                                                                                               NaN  \n",
       "A_182167 2021-02-17 Well                            first of all  Tycho                                        thanks for the recognition. Really proud of th...  business in January was stronger than we had a...  we saw the strength in China. Obviously            that was higher than we had. We're thinking as...  led by pharma and the food market. I'm sure we...  which is both growth in China as well as in Am...  when we already had announced an increase in o...                                                NaN  "
      ]
     },
     "execution_count": 22,
     "metadata": {},
     "output_type": "execute_result"
    }
   ],
   "source": [
    "import pandas as pd\n",
    "url = 'https://raw.githubusercontent.com/Praveen-Joseph/W266-Final-Project-Vedula-Joseph/main/Data/earnings_calls_key_para.csv'\n",
    "df = pd.read_csv(url, error_bad_lines=False)\n",
    "df.head()"
   ]
  },
  {
   "cell_type": "code",
   "execution_count": null,
   "metadata": {},
   "outputs": [],
   "source": []
  }
 ],
 "metadata": {
  "kernelspec": {
   "display_name": "Python 3",
   "language": "python",
   "name": "python3"
  },
  "language_info": {
   "codemirror_mode": {
    "name": "ipython",
    "version": 3
   },
   "file_extension": ".py",
   "mimetype": "text/x-python",
   "name": "python",
   "nbconvert_exporter": "python",
   "pygments_lexer": "ipython3",
   "version": "3.7.6"
  }
 },
 "nbformat": 4,
 "nbformat_minor": 4
}
