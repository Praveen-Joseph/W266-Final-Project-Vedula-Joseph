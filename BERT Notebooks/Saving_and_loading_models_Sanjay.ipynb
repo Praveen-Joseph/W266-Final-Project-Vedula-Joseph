{
  "nbformat": 4,
  "nbformat_minor": 0,
  "metadata": {
    "colab": {
      "name": "saving_and_loading_models.ipynb",
      "provenance": [],
      "collapsed_sections": []
    },
    "kernelspec": {
      "name": "python3",
      "display_name": "Python 3"
    }
  },
  "cells": [
    {
      "cell_type": "markdown",
      "metadata": {
        "id": "97b7Hx9ToIzK"
      },
      "source": [
        "# Imports"
      ]
    },
    {
      "cell_type": "code",
      "metadata": {
        "colab": {
          "base_uri": "https://localhost:8080/"
        },
        "id": "vAxAXepdmli0",
        "outputId": "435c8e52-a706-4173-c617-a9884b875c59"
      },
      "source": [
        "pip install pyyaml"
      ],
      "execution_count": null,
      "outputs": [
        {
          "output_type": "stream",
          "text": [
            "Requirement already satisfied: pyyaml in /usr/local/lib/python3.6/dist-packages (3.13)\n"
          ],
          "name": "stdout"
        }
      ]
    },
    {
      "cell_type": "code",
      "metadata": {
        "colab": {
          "base_uri": "https://localhost:8080/"
        },
        "id": "gO_gvmhGn6j9",
        "outputId": "f0930f71-da30-4d9a-da08-5551e68e7bef"
      },
      "source": [
        "pip install h5py"
      ],
      "execution_count": null,
      "outputs": [
        {
          "output_type": "stream",
          "text": [
            "Requirement already satisfied: h5py in /usr/local/lib/python3.6/dist-packages (2.10.0)\n",
            "Requirement already satisfied: six in /usr/local/lib/python3.6/dist-packages (from h5py) (1.15.0)\n",
            "Requirement already satisfied: numpy>=1.7 in /usr/local/lib/python3.6/dist-packages (from h5py) (1.19.5)\n"
          ],
          "name": "stdout"
        }
      ]
    },
    {
      "cell_type": "code",
      "metadata": {
        "id": "0jX3XXm_n9DT"
      },
      "source": [
        "import os\n",
        "import tensorflow as tf\n",
        "from tensorflow import keras"
      ],
      "execution_count": null,
      "outputs": []
    },
    {
      "cell_type": "markdown",
      "metadata": {
        "id": "c2zMjy_KxWxf"
      },
      "source": [
        "# For saving a model, see instructions below:"
      ]
    },
    {
      "cell_type": "markdown",
      "metadata": {
        "id": "PcCoYV2It02r"
      },
      "source": [
        "### Load The Data"
      ]
    },
    {
      "cell_type": "code",
      "metadata": {
        "colab": {
          "base_uri": "https://localhost:8080/"
        },
        "id": "CSmMrtKFoT3i",
        "outputId": "463e8d84-0c1c-410f-9d58-2f872733c5a2"
      },
      "source": [
        "# Loading Fashion MNIST dataset\n",
        "(train_images, train_labels), (test_images, test_labels) = tf.keras.datasets.fashion_mnist.load_data()\n",
        "\n",
        "# creating a smaller dataset \n",
        "train_labels = train_labels[:1000]\n",
        "test_labels = test_labels[:1000]\n",
        "\n",
        "# Normalizing the dataset\n",
        "train_images = train_images[:1000].astype('float32') / 255\n",
        "test_images = test_images[:1000].astype('float32') / 255\n",
        "\n",
        "# Reshaping the data for inputing into the model\n",
        "train_images = train_images.reshape((train_images.shape[0],  28, 28,1))\n",
        "test_images = test_images.reshape((test_images.shape[0],  28, 28,1))"
      ],
      "execution_count": null,
      "outputs": [
        {
          "output_type": "stream",
          "text": [
            "Downloading data from https://storage.googleapis.com/tensorflow/tf-keras-datasets/train-labels-idx1-ubyte.gz\n",
            "32768/29515 [=================================] - 0s 0us/step\n",
            "Downloading data from https://storage.googleapis.com/tensorflow/tf-keras-datasets/train-images-idx3-ubyte.gz\n",
            "26427392/26421880 [==============================] - 0s 0us/step\n",
            "Downloading data from https://storage.googleapis.com/tensorflow/tf-keras-datasets/t10k-labels-idx1-ubyte.gz\n",
            "8192/5148 [===============================================] - 0s 0us/step\n",
            "Downloading data from https://storage.googleapis.com/tensorflow/tf-keras-datasets/t10k-images-idx3-ubyte.gz\n",
            "4423680/4422102 [==============================] - 0s 0us/step\n"
          ],
          "name": "stdout"
        }
      ]
    },
    {
      "cell_type": "markdown",
      "metadata": {
        "id": "k4-VlGMgt6-C"
      },
      "source": [
        "### Create The Model"
      ]
    },
    {
      "cell_type": "code",
      "metadata": {
        "colab": {
          "base_uri": "https://localhost:8080/"
        },
        "id": "1fftjKu9omuh",
        "outputId": "d35a4104-64d4-4fb1-ad00-27bcfe303cfc"
      },
      "source": [
        "# Defining and compiling the keras model\n",
        "def create_model():\n",
        "    model = tf.keras.Sequential()\n",
        "    # Must define the input shape in the first layer of the neural network\n",
        "    model.add(tf.keras.layers.Conv2D(filters=64, kernel_size=2, padding='same', activation='relu', input_shape=(28,28,1))) \n",
        "    model.add(tf.keras.layers.MaxPooling2D(pool_size=2))\n",
        "    model.add(tf.keras.layers.Dropout(0.3))\n",
        "    model.add(tf.keras.layers.Conv2D(filters=32, kernel_size=2, padding='same', activation='relu'))\n",
        "    model.add(tf.keras.layers.MaxPooling2D(pool_size=2))\n",
        "    model.add(tf.keras.layers.Dropout(0.3))\n",
        "    model.add(tf.keras.layers.Flatten())\n",
        "    model.add(tf.keras.layers.Dense(256, activation='relu'))\n",
        "    model.add(tf.keras.layers.Dropout(0.5))\n",
        "    model.add(tf.keras.layers.Dense(10, activation='softmax'))\n",
        "    \n",
        "    # Compiling the model\n",
        "    model.compile(loss='sparse_categorical_crossentropy',\n",
        "             optimizer='adam',\n",
        "             metrics=['accuracy'])\n",
        "    \n",
        "    return model\n",
        "    \n",
        "# Create a basic model instance\n",
        "model = create_model()\n",
        "model.summary()"
      ],
      "execution_count": null,
      "outputs": [
        {
          "output_type": "stream",
          "text": [
            "Model: \"sequential\"\n",
            "_________________________________________________________________\n",
            "Layer (type)                 Output Shape              Param #   \n",
            "=================================================================\n",
            "conv2d (Conv2D)              (None, 28, 28, 64)        320       \n",
            "_________________________________________________________________\n",
            "max_pooling2d (MaxPooling2D) (None, 14, 14, 64)        0         \n",
            "_________________________________________________________________\n",
            "dropout (Dropout)            (None, 14, 14, 64)        0         \n",
            "_________________________________________________________________\n",
            "conv2d_1 (Conv2D)            (None, 14, 14, 32)        8224      \n",
            "_________________________________________________________________\n",
            "max_pooling2d_1 (MaxPooling2 (None, 7, 7, 32)          0         \n",
            "_________________________________________________________________\n",
            "dropout_1 (Dropout)          (None, 7, 7, 32)          0         \n",
            "_________________________________________________________________\n",
            "flatten (Flatten)            (None, 1568)              0         \n",
            "_________________________________________________________________\n",
            "dense (Dense)                (None, 256)               401664    \n",
            "_________________________________________________________________\n",
            "dropout_2 (Dropout)          (None, 256)               0         \n",
            "_________________________________________________________________\n",
            "dense_1 (Dense)              (None, 10)                2570      \n",
            "=================================================================\n",
            "Total params: 412,778\n",
            "Trainable params: 412,778\n",
            "Non-trainable params: 0\n",
            "_________________________________________________________________\n"
          ],
          "name": "stdout"
        }
      ]
    },
    {
      "cell_type": "markdown",
      "metadata": {
        "id": "7zxA3y_Ct-Bh"
      },
      "source": [
        "### Training"
      ]
    },
    {
      "cell_type": "code",
      "metadata": {
        "colab": {
          "base_uri": "https://localhost:8080/"
        },
        "id": "QzdNux-6oruC",
        "outputId": "5a2643ac-2faf-437d-b534-37214eab048e"
      },
      "source": [
        "# Fit the train data to the model\n",
        "model.fit(train_images, \n",
        "          train_labels,  \n",
        "          batch_size=64,\n",
        "          epochs=30,\n",
        "          validation_data=(test_images,test_labels))"
      ],
      "execution_count": null,
      "outputs": [
        {
          "output_type": "stream",
          "text": [
            "Epoch 1/30\n",
            "16/16 [==============================] - 2s 101ms/step - loss: 0.2531 - accuracy: 0.8920 - val_loss: 0.5115 - val_accuracy: 0.8230\n",
            "Epoch 2/30\n",
            "16/16 [==============================] - 1s 95ms/step - loss: 0.2246 - accuracy: 0.9120 - val_loss: 0.5045 - val_accuracy: 0.8310\n",
            "Epoch 3/30\n",
            "16/16 [==============================] - 2s 95ms/step - loss: 0.2685 - accuracy: 0.8940 - val_loss: 0.5266 - val_accuracy: 0.8260\n",
            "Epoch 4/30\n",
            "16/16 [==============================] - 2s 106ms/step - loss: 0.2357 - accuracy: 0.9100 - val_loss: 0.5104 - val_accuracy: 0.8130\n",
            "Epoch 5/30\n",
            "16/16 [==============================] - 2s 109ms/step - loss: 0.2505 - accuracy: 0.9100 - val_loss: 0.5115 - val_accuracy: 0.8290\n",
            "Epoch 6/30\n",
            "16/16 [==============================] - 2s 108ms/step - loss: 0.2295 - accuracy: 0.9120 - val_loss: 0.5090 - val_accuracy: 0.8290\n",
            "Epoch 7/30\n",
            "16/16 [==============================] - 2s 100ms/step - loss: 0.2255 - accuracy: 0.9170 - val_loss: 0.5048 - val_accuracy: 0.8320\n",
            "Epoch 8/30\n",
            "16/16 [==============================] - 2s 101ms/step - loss: 0.2324 - accuracy: 0.9150 - val_loss: 0.4938 - val_accuracy: 0.8380\n",
            "Epoch 9/30\n",
            "16/16 [==============================] - 1s 95ms/step - loss: 0.2321 - accuracy: 0.9100 - val_loss: 0.5042 - val_accuracy: 0.8310\n",
            "Epoch 10/30\n",
            "16/16 [==============================] - 1s 95ms/step - loss: 0.2414 - accuracy: 0.9080 - val_loss: 0.5114 - val_accuracy: 0.8250\n",
            "Epoch 11/30\n",
            "16/16 [==============================] - 2s 97ms/step - loss: 0.2177 - accuracy: 0.9180 - val_loss: 0.5199 - val_accuracy: 0.8390\n",
            "Epoch 12/30\n",
            "16/16 [==============================] - 2s 109ms/step - loss: 0.1990 - accuracy: 0.9330 - val_loss: 0.5007 - val_accuracy: 0.8330\n",
            "Epoch 13/30\n",
            "16/16 [==============================] - 2s 110ms/step - loss: 0.1797 - accuracy: 0.9330 - val_loss: 0.5544 - val_accuracy: 0.8250\n",
            "Epoch 14/30\n",
            "16/16 [==============================] - 2s 100ms/step - loss: 0.1811 - accuracy: 0.9310 - val_loss: 0.5441 - val_accuracy: 0.8330\n",
            "Epoch 15/30\n",
            "16/16 [==============================] - 2s 96ms/step - loss: 0.1905 - accuracy: 0.9300 - val_loss: 0.5348 - val_accuracy: 0.8320\n",
            "Epoch 16/30\n",
            "16/16 [==============================] - 2s 96ms/step - loss: 0.2050 - accuracy: 0.9270 - val_loss: 0.5249 - val_accuracy: 0.8320\n",
            "Epoch 17/30\n",
            "16/16 [==============================] - 2s 97ms/step - loss: 0.1869 - accuracy: 0.9320 - val_loss: 0.6126 - val_accuracy: 0.8140\n",
            "Epoch 18/30\n",
            "16/16 [==============================] - 2s 96ms/step - loss: 0.1783 - accuracy: 0.9430 - val_loss: 0.5520 - val_accuracy: 0.8260\n",
            "Epoch 19/30\n",
            "16/16 [==============================] - 2s 150ms/step - loss: 0.1656 - accuracy: 0.9400 - val_loss: 0.5459 - val_accuracy: 0.8400\n",
            "Epoch 20/30\n",
            "16/16 [==============================] - 2s 106ms/step - loss: 0.1372 - accuracy: 0.9470 - val_loss: 0.5892 - val_accuracy: 0.8210\n",
            "Epoch 21/30\n",
            "16/16 [==============================] - 2s 96ms/step - loss: 0.1600 - accuracy: 0.9420 - val_loss: 0.5601 - val_accuracy: 0.8340\n",
            "Epoch 22/30\n",
            "16/16 [==============================] - 2s 95ms/step - loss: 0.1860 - accuracy: 0.9340 - val_loss: 0.5280 - val_accuracy: 0.8360\n",
            "Epoch 23/30\n",
            "16/16 [==============================] - 1s 94ms/step - loss: 0.1610 - accuracy: 0.9470 - val_loss: 0.5764 - val_accuracy: 0.8340\n",
            "Epoch 24/30\n",
            "16/16 [==============================] - 2s 96ms/step - loss: 0.1431 - accuracy: 0.9450 - val_loss: 0.5643 - val_accuracy: 0.8150\n",
            "Epoch 25/30\n",
            "16/16 [==============================] - 2s 98ms/step - loss: 0.1510 - accuracy: 0.9470 - val_loss: 0.5383 - val_accuracy: 0.8270\n",
            "Epoch 26/30\n",
            "16/16 [==============================] - 2s 96ms/step - loss: 0.1396 - accuracy: 0.9430 - val_loss: 0.5602 - val_accuracy: 0.8390\n",
            "Epoch 27/30\n",
            "16/16 [==============================] - 2s 102ms/step - loss: 0.1330 - accuracy: 0.9550 - val_loss: 0.5494 - val_accuracy: 0.8330\n",
            "Epoch 28/30\n",
            "16/16 [==============================] - 2s 104ms/step - loss: 0.1230 - accuracy: 0.9560 - val_loss: 0.5802 - val_accuracy: 0.8330\n",
            "Epoch 29/30\n",
            "16/16 [==============================] - 2s 102ms/step - loss: 0.1421 - accuracy: 0.9400 - val_loss: 0.5417 - val_accuracy: 0.8430\n",
            "Epoch 30/30\n",
            "16/16 [==============================] - 2s 105ms/step - loss: 0.1418 - accuracy: 0.9460 - val_loss: 0.5784 - val_accuracy: 0.8320\n"
          ],
          "name": "stdout"
        },
        {
          "output_type": "execute_result",
          "data": {
            "text/plain": [
              "<tensorflow.python.keras.callbacks.History at 0x7f9679d75940>"
            ]
          },
          "metadata": {
            "tags": []
          },
          "execution_count": 8
        }
      ]
    },
    {
      "cell_type": "markdown",
      "metadata": {
        "id": "3U-7dv_VwgEF"
      },
      "source": [
        "### Evaluate On Test Data"
      ]
    },
    {
      "cell_type": "code",
      "metadata": {
        "colab": {
          "base_uri": "https://localhost:8080/"
        },
        "id": "HkcqYpvnwPVv",
        "outputId": "ef5e72ba-3cfb-4c36-d14e-81d17f9bada5"
      },
      "source": [
        "loss,acc = model.evaluate(test_images, test_labels, verbose=2)"
      ],
      "execution_count": null,
      "outputs": [
        {
          "output_type": "stream",
          "text": [
            "32/32 - 0s - loss: 0.5784 - accuracy: 0.8320\n"
          ],
          "name": "stdout"
        }
      ]
    },
    {
      "cell_type": "markdown",
      "metadata": {
        "id": "7qowJAJtuA97"
      },
      "source": [
        "### Save Model To YAML"
      ]
    },
    {
      "cell_type": "code",
      "metadata": {
        "id": "7hzN-3Pbo5M7"
      },
      "source": [
        "# saving the model to a YAML file\n",
        "yaml_model= model.to_yaml()\n",
        "\n",
        "# writing the yaml model to the yaml file\n",
        "with open('/content/drive/MyDrive/Colab Notebooks/W266 Final Project/demo/saving_and_loading_models/test_yaml_model.yaml', 'w') as yaml_file:\n",
        "    yaml_file.write(yaml_model)"
      ],
      "execution_count": null,
      "outputs": []
    },
    {
      "cell_type": "markdown",
      "metadata": {
        "id": "m_jY9ymouOPr"
      },
      "source": [
        "### Save Model Weights Using HDF5 Format"
      ]
    },
    {
      "cell_type": "code",
      "metadata": {
        "id": "CKLTNXdHsuhU"
      },
      "source": [
        "model.save_weights('/content/drive/MyDrive/Colab Notebooks/W266 Final Project/demo/saving_and_loading_models/test_yaml_model.h5')"
      ],
      "execution_count": null,
      "outputs": []
    },
    {
      "cell_type": "markdown",
      "metadata": {
        "id": "GVEsPhqEwto4"
      },
      "source": [
        "# For reloading the model, see instructions below:"
      ]
    },
    {
      "cell_type": "markdown",
      "metadata": {
        "id": "-CZBxztwuuwn"
      },
      "source": [
        "### Load Model From YAML Into New Model"
      ]
    },
    {
      "cell_type": "code",
      "metadata": {
        "colab": {
          "base_uri": "https://localhost:8080/"
        },
        "id": "AFcIY9z_p3AE",
        "outputId": "de179009-fd36-4d04-9058-a7ca600118c0"
      },
      "source": [
        "# Read the model architecture from YAML file\n",
        "with open('/content/drive/MyDrive/Colab Notebooks/W266 Final Project/demo/saving_and_loading_models/test_yaml_model.yaml', 'r') as yaml_file:\n",
        "    yaml_saved_model = yaml_file.read()\n",
        "\n",
        "# Load the saved Yaml model\n",
        "from keras.models import model_from_yaml\n",
        "model_from_yaml= tf.keras.models.model_from_yaml(yaml_saved_model)\n",
        "model_from_yaml.summary()"
      ],
      "execution_count": null,
      "outputs": [
        {
          "output_type": "stream",
          "text": [
            "Model: \"sequential\"\n",
            "_________________________________________________________________\n",
            "Layer (type)                 Output Shape              Param #   \n",
            "=================================================================\n",
            "conv2d (Conv2D)              (None, 28, 28, 64)        320       \n",
            "_________________________________________________________________\n",
            "max_pooling2d (MaxPooling2D) (None, 14, 14, 64)        0         \n",
            "_________________________________________________________________\n",
            "dropout (Dropout)            (None, 14, 14, 64)        0         \n",
            "_________________________________________________________________\n",
            "conv2d_1 (Conv2D)            (None, 14, 14, 32)        8224      \n",
            "_________________________________________________________________\n",
            "max_pooling2d_1 (MaxPooling2 (None, 7, 7, 32)          0         \n",
            "_________________________________________________________________\n",
            "dropout_1 (Dropout)          (None, 7, 7, 32)          0         \n",
            "_________________________________________________________________\n",
            "flatten (Flatten)            (None, 1568)              0         \n",
            "_________________________________________________________________\n",
            "dense (Dense)                (None, 256)               401664    \n",
            "_________________________________________________________________\n",
            "dropout_2 (Dropout)          (None, 256)               0         \n",
            "_________________________________________________________________\n",
            "dense_1 (Dense)              (None, 10)                2570      \n",
            "=================================================================\n",
            "Total params: 412,778\n",
            "Trainable params: 412,778\n",
            "Non-trainable params: 0\n",
            "_________________________________________________________________\n"
          ],
          "name": "stdout"
        }
      ]
    },
    {
      "cell_type": "markdown",
      "metadata": {
        "id": "bkcvOgkmu71L"
      },
      "source": [
        "### Load Saved Weights Into New Model"
      ]
    },
    {
      "cell_type": "code",
      "metadata": {
        "id": "JwEwNUNptPno"
      },
      "source": [
        "model_from_yaml.load_weights('/content/drive/MyDrive/Colab Notebooks/W266 Final Project/demo/saving_and_loading_models/test_yaml_model.h5')"
      ],
      "execution_count": null,
      "outputs": []
    },
    {
      "cell_type": "markdown",
      "metadata": {
        "id": "aG0ulv-HvDfm"
      },
      "source": [
        "### Compile The Model"
      ]
    },
    {
      "cell_type": "code",
      "metadata": {
        "id": "eL6sUft8tnGl"
      },
      "source": [
        "model_from_yaml.compile(loss='sparse_categorical_crossentropy',\n",
        "         optimizer='SGD',\n",
        "         metrics=['accuracy'])"
      ],
      "execution_count": null,
      "outputs": []
    },
    {
      "cell_type": "markdown",
      "metadata": {
        "id": "S2-K9j_LvGy-"
      },
      "source": [
        "### Evaluate On Test Data"
      ]
    },
    {
      "cell_type": "code",
      "metadata": {
        "colab": {
          "base_uri": "https://localhost:8080/"
        },
        "id": "qnM9vusWrMRd",
        "outputId": "d7815bfe-9065-4f1b-e99e-cd538aaa90c4"
      },
      "source": [
        "loss,acc = model_from_yaml.evaluate(test_images, test_labels, verbose=2)"
      ],
      "execution_count": null,
      "outputs": [
        {
          "output_type": "stream",
          "text": [
            "32/32 - 1s - loss: 0.5784 - accuracy: 0.8320\n"
          ],
          "name": "stdout"
        }
      ]
    }
  ]
}